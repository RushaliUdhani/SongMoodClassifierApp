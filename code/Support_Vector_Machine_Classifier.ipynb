{
 "cells": [
  {
   "cell_type": "code",
   "execution_count": 2,
   "metadata": {},
   "outputs": [],
   "source": [
    "from sklearn.feature_extraction.text import TfidfVectorizer\n",
    "import time\n",
    "from sklearn import svm\n",
    "from sklearn.metrics import classification_report\n",
    "import pandas as pd"
   ]
  },
  {
   "cell_type": "code",
   "execution_count": 3,
   "metadata": {},
   "outputs": [
    {
     "data": {
      "text/html": [
       "<div>\n",
       "<style scoped>\n",
       "    .dataframe tbody tr th:only-of-type {\n",
       "        vertical-align: middle;\n",
       "    }\n",
       "\n",
       "    .dataframe tbody tr th {\n",
       "        vertical-align: top;\n",
       "    }\n",
       "\n",
       "    .dataframe thead th {\n",
       "        text-align: right;\n",
       "    }\n",
       "</style>\n",
       "<table border=\"1\" class=\"dataframe\">\n",
       "  <thead>\n",
       "    <tr style=\"text-align: right;\">\n",
       "      <th></th>\n",
       "      <th>file</th>\n",
       "      <th>artist</th>\n",
       "      <th>title</th>\n",
       "      <th>lyrics</th>\n",
       "      <th>genre</th>\n",
       "      <th>mood</th>\n",
       "      <th>year</th>\n",
       "    </tr>\n",
       "  </thead>\n",
       "  <tbody>\n",
       "    <tr>\n",
       "      <th>995</th>\n",
       "      <td>TRBIGRY128F42597B3.h5</td>\n",
       "      <td>Sade</td>\n",
       "      <td>All About Our Love</td>\n",
       "      <td>Its all about our love\\nSo shall it be forever...</td>\n",
       "      <td>R&amp;B</td>\n",
       "      <td>sad</td>\n",
       "      <td>2000</td>\n",
       "    </tr>\n",
       "    <tr>\n",
       "      <th>996</th>\n",
       "      <td>TRBIIEU128F9307C88.h5</td>\n",
       "      <td>New Found Glory</td>\n",
       "      <td>Don't Let Her Pull You Down</td>\n",
       "      <td>It's time that I rain on your parade\\nWatch as...</td>\n",
       "      <td>Rock</td>\n",
       "      <td>happy</td>\n",
       "      <td>2009</td>\n",
       "    </tr>\n",
       "    <tr>\n",
       "      <th>997</th>\n",
       "      <td>TRBIIJY12903CE4755.h5</td>\n",
       "      <td>Mindy McCready</td>\n",
       "      <td>Ten Thousand Angels</td>\n",
       "      <td>Speakin of the devil\\nLook who just walked in\\...</td>\n",
       "      <td>Country</td>\n",
       "      <td>happy</td>\n",
       "      <td>1996</td>\n",
       "    </tr>\n",
       "    <tr>\n",
       "      <th>998</th>\n",
       "      <td>TRBIIOT128F423C594.h5</td>\n",
       "      <td>Joy Division</td>\n",
       "      <td>Leaders Of Men</td>\n",
       "      <td>Born from some mother's womb\\nJust like any ot...</td>\n",
       "      <td>Rock</td>\n",
       "      <td>sad</td>\n",
       "      <td>1978</td>\n",
       "    </tr>\n",
       "    <tr>\n",
       "      <th>999</th>\n",
       "      <td>TRBIJYB128F14AE326.h5</td>\n",
       "      <td>Seventh Day Slumber</td>\n",
       "      <td>Shattered Life</td>\n",
       "      <td>This wanting more from me is tearing me, it's ...</td>\n",
       "      <td>Rock</td>\n",
       "      <td>sad</td>\n",
       "      <td>2005</td>\n",
       "    </tr>\n",
       "  </tbody>\n",
       "</table>\n",
       "</div>"
      ],
      "text/plain": [
       "                      file               artist                        title  \\\n",
       "995  TRBIGRY128F42597B3.h5                 Sade           All About Our Love   \n",
       "996  TRBIIEU128F9307C88.h5      New Found Glory  Don't Let Her Pull You Down   \n",
       "997  TRBIIJY12903CE4755.h5       Mindy McCready          Ten Thousand Angels   \n",
       "998  TRBIIOT128F423C594.h5         Joy Division               Leaders Of Men   \n",
       "999  TRBIJYB128F14AE326.h5  Seventh Day Slumber               Shattered Life   \n",
       "\n",
       "                                                lyrics    genre   mood  year  \n",
       "995  Its all about our love\\nSo shall it be forever...      R&B    sad  2000  \n",
       "996  It's time that I rain on your parade\\nWatch as...     Rock  happy  2009  \n",
       "997  Speakin of the devil\\nLook who just walked in\\...  Country  happy  1996  \n",
       "998  Born from some mother's womb\\nJust like any ot...     Rock    sad  1978  \n",
       "999  This wanting more from me is tearing me, it's ...     Rock    sad  2005  "
      ]
     },
     "execution_count": 3,
     "metadata": {},
     "output_type": "execute_result"
    }
   ],
   "source": [
    "trainData = pd.read_csv(\"train_lyrics_1000.csv\")\n",
    "testData = pd.read_csv(\"valid_lyrics_200.csv\")\n",
    "trainData.tail()"
   ]
  },
  {
   "cell_type": "code",
   "execution_count": 4,
   "metadata": {},
   "outputs": [],
   "source": [
    "# Create feature vectors\n",
    "vectorizer = TfidfVectorizer(min_df = 5,\n",
    "                             max_df = 0.8,\n",
    "                             sublinear_tf = True,\n",
    "                             use_idf = True)"
   ]
  },
  {
   "cell_type": "code",
   "execution_count": 5,
   "metadata": {},
   "outputs": [],
   "source": [
    "train_vectors = vectorizer.fit_transform(trainData['lyrics'])\n",
    "test_vectors = vectorizer.transform(testData['lyrics'])"
   ]
  },
  {
   "cell_type": "code",
   "execution_count": 7,
   "metadata": {},
   "outputs": [],
   "source": [
    "# Perform classification with SVM, kernel=linear\n",
    "classifier_linear = svm.SVC(kernel='linear')\n",
    "t0 = time.time()\n",
    "classifier_linear.fit(train_vectors, trainData['mood'])\n",
    "t1 = time.time()\n",
    "prediction_linear = classifier_linear.predict(test_vectors)\n",
    "t2 = time.time()\n",
    "time_linear_train = t1-t0\n",
    "time_linear_predict = t2-t1"
   ]
  },
  {
   "cell_type": "code",
   "execution_count": 21,
   "metadata": {},
   "outputs": [],
   "source": [
    "classfier = classifier_linear.predict(train_vectors)"
   ]
  },
  {
   "cell_type": "code",
   "execution_count": 24,
   "metadata": {},
   "outputs": [
    {
     "name": "stdout",
     "output_type": "stream",
     "text": [
      "Results for SVC(kernel=linear)\n",
      "Training time: 0.785746s; Prediction time: 0.181941s\n",
      "Testing data\n",
      "positive:  {'precision': 0.725, 'recall': 0.5523809523809524, 'f1-score': 0.6270270270270271, 'support': 105}\n",
      "negative:  {'precision': 0.6083333333333333, 'recall': 0.7684210526315789, 'f1-score': 0.6790697674418604, 'support': 95}\n"
     ]
    }
   ],
   "source": [
    "# results\n",
    "print(\"Results for SVC(kernel=linear)\")\n",
    "print(\"Training time: %fs; Prediction time: %fs\" % (time_linear_train, time_linear_predict))\n",
    "report = classification_report(testData['mood'], prediction_linear, output_dict=True)\n",
    "print('Testing data')\n",
    "print('positive: ', report['happy'])\n",
    "print('negative: ', report['sad'])"
   ]
  },
  {
   "cell_type": "code",
   "execution_count": 26,
   "metadata": {},
   "outputs": [
    {
     "name": "stdout",
     "output_type": "stream",
     "text": [
      "Training data\n",
      "positive:  {'precision': 0.9656862745098039, 'recall': 0.8834080717488789, 'f1-score': 0.9227166276346604, 'support': 446}\n",
      "negative:  {'precision': 0.9121621621621622, 'recall': 0.9747292418772563, 'f1-score': 0.9424083769633508, 'support': 554}\n"
     ]
    }
   ],
   "source": [
    "report = classification_report(trainData['mood'], classfier, output_dict=True)\n",
    "print('Training data')\n",
    "print('positive: ', report['happy'])\n",
    "print('negative: ', report['sad'])"
   ]
  },
  {
   "cell_type": "code",
   "execution_count": 14,
   "metadata": {},
   "outputs": [],
   "source": [
    "X_train = trainData['lyrics']\n",
    "y_train = trainData['mood']\n",
    "X_valid = testData['lyrics']\n",
    "y_valid = testData['mood']"
   ]
  },
  {
   "cell_type": "code",
   "execution_count": 10,
   "metadata": {},
   "outputs": [],
   "source": [
    "from sklearn import metrics"
   ]
  },
  {
   "cell_type": "code",
   "execution_count": 11,
   "metadata": {},
   "outputs": [],
   "source": [
    "acc_scorer = metrics.make_scorer(metrics.accuracy_score, greater_is_better=True)\n",
    "pre_scorer = metrics.make_scorer(metrics.precision_score, greater_is_better=True, pos_label=0)\n",
    "rec_scorer = metrics.make_scorer(metrics.recall_score, greater_is_better=True, pos_label=0)\n",
    "f1_scorer = metrics.make_scorer(metrics.f1_score, greater_is_better=True, pos_label=0)"
   ]
  },
  {
   "cell_type": "code",
   "execution_count": 31,
   "metadata": {},
   "outputs": [
    {
     "name": "stdout",
     "output_type": "stream",
     "text": [
      "Accuracy: 0.6550\n"
     ]
    }
   ],
   "source": [
    "a = print(\"Accuracy: {0:.4f}\".format(metrics.accuracy_score(y_valid, prediction_linear)))"
   ]
  }
 ],
 "metadata": {
  "kernelspec": {
   "display_name": "Python 3",
   "language": "python",
   "name": "python3"
  },
  "language_info": {
   "codemirror_mode": {
    "name": "ipython",
    "version": 3
   },
   "file_extension": ".py",
   "mimetype": "text/x-python",
   "name": "python",
   "nbconvert_exporter": "python",
   "pygments_lexer": "ipython3",
   "version": "3.7.1"
  }
 },
 "nbformat": 4,
 "nbformat_minor": 2
}
